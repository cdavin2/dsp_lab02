{
  "cells": [
    {
      "cell_type": "markdown",
      "metadata": {
        "id": "PoIdAdVLdzQM"
      },
      "source": [
        "<h1><center>\n",
        "    ECE 438 - Laboratory 2<br/>\n",
        "    Discrete-Time Systems<br/>\n",
        "    <small>Last updated on January 17, 2022</small>\n",
        "</center></h1>"
      ]
    },
    {
      "cell_type": "code",
      "execution_count": 2,
      "metadata": {
        "id": "ggXBUp-VdzQO"
      },
      "outputs": [],
      "source": [
        "import numpy as np\n",
        "import matplotlib.pyplot as plt\n",
        "import soundfile as sf\n",
        "import IPython.display as ipd"
      ]
    },
    {
      "cell_type": "code",
      "execution_count": 3,
      "metadata": {
        "id": "IM5WNscodzQP"
      },
      "outputs": [],
      "source": [
        "# make sure the plot is displayed in this notebook\n",
        "%matplotlib inline\n",
        "# specify the size of the plot\n",
        "plt.rcParams['figure.figsize'] = (16, 6)\n",
        "\n",
        "# for auto-reloading extenrnal modules\n",
        "%load_ext autoreload\n",
        "%autoreload 2"
      ]
    },
    {
      "cell_type": "markdown",
      "metadata": {
        "id": "JfRweeBWdzQP"
      },
      "source": [
        "<h2 style=\"color:salmon;\"><left>1. Introduction</left></h2>"
      ]
    },
    {
      "cell_type": "markdown",
      "metadata": {
        "id": "75sE8jVodzQP"
      },
      "source": [
        "A discrete-time system is anything that takes a discrete-time signal as input and generates a discrete-time signal as output. The concept of a system is very general. It may be used to model the response of an audio equalizer or the performance of the US economy.\n",
        "\n",
        "In electrical engineering, *__continuous-time__* signals are usually processed by electrical circuits described by differential equations. For example, any circuit of resistors, capacitors, and inductors can be analyzed using mesh analysis to yield a system of differential equations. The voltages and currents in the circuit may then be computed by solving the equations.\n",
        "\n",
        "The processing of *__discrete-time__* signals is performed by discrete-time systems. Similar to the continuous-time case, we may represent a discrete-time system either by a set of difference equations or by a block diagram of its implementation. For example, consider the following difference equation.\n",
        "\n",
        "\\begin{equation}\n",
        "    y[n]=y[n-1]-2x[n]+3x[n-1]\\tag{1}\n",
        "\\end{equation}\n",
        "\n",
        "This equation represents a discrete-time *__system__*. It operates on the input signal $x[n]$ to produce the output signal $y[n]$. This system may also be defined by a system diagram as in Figure 1."
      ]
    },
    {
      "cell_type": "markdown",
      "metadata": {
        "id": "8SIENWI_dzQP"
      },
      "source": [
        "<img src=\"https://github.com/cdavin2/dsp_lab02/blob/main/imgs/lab02_figure1.png?raw=1\" style=\"width:60%;\">"
      ]
    },
    {
      "cell_type": "markdown",
      "metadata": {
        "id": "j8wIDdAsdzQQ"
      },
      "source": [
        "Mathematically, we use the notation $y=S[x]$ to denote a discrete-time system $S$ with input signal $x[n]$ and output signal $y[n]$. Notice that the input and output to the system are the complete signals for __all__ time $n$. This is important since the output at a particular time can be a function of past, present, and future values of $x[n]$.\n",
        "\n",
        "It is usually quite straightforward to write a computer program to implement a discrete-time system from its difference equation. In fact, programmable computers are one of the easiest and most cost-effective ways of implementing discrete-time systems.\n",
        "\n",
        "While Equation (1) is an example of a linear time-invariant system, other discrete-time systems may be nonlinear and/or time-varying. In order to understand discrete-time systems, it is important to first understand their classification into categories of linear/nonlinear, time-invariant/time-varying, causal/noncausal, memoryless/with-memory, and stable/unstable. Then it is possible to study the properties of restricted classes of systems, such as discrete-time systems, which are linear, time-invariant, and stable."
      ]
    },
    {
      "cell_type": "markdown",
      "metadata": {
        "id": "iQcMZbj0dzQQ"
      },
      "source": [
        "<h2 style=\"color:salmon;\"><left>2. Example of Discrete-time Systems</left></h2>"
      ]
    },
    {
      "cell_type": "markdown",
      "metadata": {
        "id": "OZF-5stBdzQQ"
      },
      "source": [
        "Discrete-time digital systems are often used in place of analog processing systems. Common examples are the replacement of photographs with digital images and conventional NTSC TV with direct broadcast digital TV. These digital systems can provide higher quality and/or lower cost through the use of standardized, high-volume digital processors.\n",
        "\n",
        "The following two continuous-time systems are commonly used in electrical engineering:\n",
        "\n",
        "\\begin{align}\n",
        "    \\text{differentiator}:&\\quad y(t)=\\frac{d}{dt}x(t)\\tag{2}\\\\\n",
        "    \\text{integrator}:&\\quad y(t)=\\int_{-\\infty}^tx(\\tau)d\\tau\\tag{3}\n",
        "\\end{align}\n",
        "\n",
        "To illustrate how a discrete-time system can be derived from the corresponding continuous-time system, we will show how the above two continuous-time systems can be formulated into corresponding discrete-time systems."
      ]
    },
    {
      "cell_type": "markdown",
      "metadata": {
        "id": "tCPGwKTTdzQQ"
      },
      "source": [
        "<h3 style=\"color:salmon;\"><left>2.1 Formulation of a discrete-time system that approximates the continuous-time differentiator</left></h3>"
      ]
    },
    {
      "cell_type": "markdown",
      "metadata": {
        "id": "3j7_lLlEdzQR"
      },
      "source": [
        "Since $y(t)=\\frac{d}{dt}x(t)$, by the definition of differentiation, $y(t)=\\lim_{\\Delta t\\rightarrow0}\\frac{x(t+\\Delta t)-x(t)}{\\Delta t}$, so sampling $y(t)$ at time $nT$ with sufficiently small $T$ gives\n",
        "\n",
        "\\begin{equation}\n",
        "    y(nT)\\approx \\frac{x(nT)-x\\left(\\left(n-1\\right)T\\right)}{T}\\tag{4}\n",
        "\\end{equation}\n",
        "\n",
        "Clearly, this approximation is more accurate when $T$ is sufficiently small. If we define $y[n]\\triangleq y(nT)$ and $x[n]\\triangleq x(nT)$, then we arrive at a discrete-time system that approximates the continuous-time differentiator: $y[n]=\\frac{\\left(x[n]-x[n-1]\\right)}{T}$."
      ]
    },
    {
      "cell_type": "markdown",
      "metadata": {
        "id": "HOJJRskKdzQR"
      },
      "source": [
        "<h3 style=\"color:salmon;\"><left>2.2 Formulation of a discrete-time system that approximates the continuous-time integrator</left></h3>"
      ]
    },
    {
      "cell_type": "markdown",
      "metadata": {
        "id": "vd8PRGE8dzQR"
      },
      "source": [
        "Since $y(t)=\\int_{-\\infty}^tx(\\tau)d\\tau$, so sampling $y(t)$ at time $nT$ gives\n",
        "\\begin{aligned}\n",
        "    y(nT)&=\\int_{-\\infty}^{nT}x(\\tau)d\\tau\\\\\n",
        "    &=\\int_{-\\infty}^{(n-1)T}x(\\tau)d\\tau+\\int_{(n-1)T}^{nT}x(\\tau)d\\tau\\\\\n",
        "    &\\approx y((n-1)T)+x(nT)\\cdot T\n",
        "\\end{aligned}\n",
        "\n",
        "Clearly, this approximation is more accurate when $T$ is sufficiently small. If we define $y[n]\\triangleq y(nT)$ and $x[n]\\triangleq x(nT)$, then we arrive at a discrete-time system that approximates the continuous-time integrator: $y[n]=y[n-1]+x[n]\\cdot T$."
      ]
    },
    {
      "cell_type": "markdown",
      "metadata": {
        "id": "ure5eRamdzQR"
      },
      "source": [
        "<h3 style=\"color:red;\"><left>Exercise 2</left></h3>"
      ]
    },
    {
      "cell_type": "markdown",
      "metadata": {
        "id": "fkNOvbpjdzQR"
      },
      "source": [
        "**1. Draw the block diagram of the discrete-time differentiator as in Figure 1.**"
      ]
    },
    {
      "cell_type": "markdown",
      "metadata": {
        "id": "DPFZL-wQdzQR"
      },
      "source": [
        "insert your diagram here"
      ]
    },
    {
      "cell_type": "markdown",
      "metadata": {
        "id": "RAN5K1KGdzQR"
      },
      "source": [
        "**2. Apply the discrete-time differentiator to the signal $u[n]-u[n-(N+1)]$, with $N=10$, for $-10\\leq n\\leq20$, and plot the output. (This assumes a time step of $T=1$)**"
      ]
    },
    {
      "cell_type": "code",
      "execution_count": 5,
      "metadata": {
        "id": "Fh55Wd2udzQS",
        "outputId": "bc9e2906-82fa-4603-c782-e7ea583eb7a8",
        "colab": {
          "base_uri": "https://localhost:8080/",
          "height": 404
        }
      },
      "outputs": [
        {
          "output_type": "display_data",
          "data": {
            "text/plain": [
              "<Figure size 1152x432 with 1 Axes>"
            ],
            "image/png": "[encoded data removed]"
          },
          "metadata": {
            "needs_background": "light"
          }
        }
      ],
      "source": [
        "# write your code here\n",
        "n = np.linspace(-10, 20, 31)\n",
        "xn = (0 >= n).astype(float) - (11 >= n).astype(float)\n",
        "xn_1 = (1 >= n).astype(float) - (12 >= n).astype(float)\n",
        "yn = (xn - xn_1)/1\n",
        "\n",
        "plt.title(r\"Exercise 2: Discrete-Time Differentiator\")\n",
        "plt.ylabel(r\"$u[n]−u[n−(N+1)]$\")\n",
        "plt.xlabel(r\"$n$\")\n",
        "plt.plot(n, yn)\n",
        "plt.show()\n",
        "\n"
      ]
    },
    {
      "cell_type": "markdown",
      "metadata": {
        "id": "TngUDr6YdzQS"
      },
      "source": [
        "**3. Draw the block diagram of the discrete-time integrator as in Figure 1.**"
      ]
    },
    {
      "cell_type": "markdown",
      "metadata": {
        "id": "XTZO74EVdzQS"
      },
      "source": [
        "write your answer here"
      ]
    },
    {
      "cell_type": "markdown",
      "metadata": {
        "id": "Xufp_tc3dzQS"
      },
      "source": [
        "**4. Apply the discrete-time integrator to the signal $u[n]-u[n-(N+1)]$, with $N=10$, for $-10\\leq n\\leq20$, and plot the output. (This assumes a time step of $T=1$)**"
      ]
    },
    {
      "cell_type": "code",
      "execution_count": 6,
      "metadata": {
        "id": "Uvh4vdCodzQS",
        "outputId": "dd3f2e30-d2dd-4f0e-9a90-db4ff0d55d1d",
        "colab": {
          "base_uri": "https://localhost:8080/",
          "height": 404
        }
      },
      "outputs": [
        {
          "output_type": "display_data",
          "data": {
            "text/plain": [
              "<Figure size 1152x432 with 1 Axes>"
            ],
            "image/png": "[encoded data removed]"
          },
          "metadata": {
            "needs_background": "light"
          }
        }
      ],
      "source": [
        "# write your code here\n",
        "n = np.linspace(-10, 20, 31)\n",
        "xn = (0 >= n).astype(float) - (11 >= n).astype(float)\n",
        "yn_1 = (1 >= n).astype(float) - (12 >= n).astype(float) * 1\n",
        "yn = yn_1 + xn * 1\n",
        "\n",
        "plt.title(r\"Exercise 2: Discrete-Time Integrator\")\n",
        "plt.ylabel(r\"$u[n]−u[n−(N+1)]$\")\n",
        "plt.xlabel(r\"$n$\")\n",
        "plt.plot(n, yn)\n",
        "plt.show()\n"
      ]
    },
    {
      "cell_type": "markdown",
      "metadata": {
        "id": "XB-RoDlSdzQS"
      },
      "source": [
        "**5. Use the discrete-time differentiator to numerically evaluate $\\frac{d}{dt}x(t)$ of $x(t)=\\sin(2\\pi t)$ for $t\\in[0,10]$, try $T=0.1$.**"
      ]
    },
    {
      "cell_type": "code",
      "execution_count": 24,
      "metadata": {
        "id": "97J7ykAidzQS",
        "outputId": "c75ca62e-84f1-4a3e-f520-8965d34099c6",
        "colab": {
          "base_uri": "https://localhost:8080/",
          "height": 404
        }
      },
      "outputs": [
        {
          "output_type": "display_data",
          "data": {
            "text/plain": [
              "<Figure size 1152x432 with 1 Axes>"
            ],
            "image/png": "[encoded data removed]"
          },
          "metadata": {
            "needs_background": "light"
          }
        }
      ],
      "source": [
        "# write your code here\n",
        "t = np.linspace(0, 10, 11*10)\n",
        "xt = np.sin(2*np.pi*t)\n",
        "xt_1 = np.sin(2*np.pi*(t-1))\n",
        "yn = (xt - xt_1)/(.1)\n",
        "\n",
        "plt.title(r\"Exercise 2: Discrete-Time Differentiator, T = 0.1\")\n",
        "plt.ylabel(r\"d/dt x(t) of x(t)=sin(2πt)\")\n",
        "plt.xlabel(r\"t\")\n",
        "plt.plot(t, yn)\n",
        "plt.show()\n"
      ]
    },
    {
      "cell_type": "markdown",
      "metadata": {
        "id": "ffWZ9_lrdzQS"
      },
      "source": [
        "**6. Use the discrete-time differentiator to numerically evaluate $\\frac{d}{dt}x(t)$ of $x(t)=\\sin(2\\pi t)$ for $t\\in[0,10]$, try $T=0.001$.**"
      ]
    },
    {
      "cell_type": "code",
      "execution_count": 25,
      "metadata": {
        "id": "lnJqL7JudzQT",
        "outputId": "e3e5119a-67b1-4cc1-c730-252ea2c749f4",
        "colab": {
          "base_uri": "https://localhost:8080/",
          "height": 404
        }
      },
      "outputs": [
        {
          "output_type": "display_data",
          "data": {
            "text/plain": [
              "<Figure size 1152x432 with 1 Axes>"
            ],
            "image/png": "[encoded data removed]"
          },
          "metadata": {
            "needs_background": "light"
          }
        }
      ],
      "source": [
        "# write your code here\n",
        "t = np.linspace(0, 10, 11*1000)\n",
        "xt = np.sin(2*np.pi*t)\n",
        "xt_1 = np.sin(2*np.pi*(t-1))\n",
        "yn = (xt - xt_1)/(.001)\n",
        "\n",
        "plt.title(r\"Exercise 2: Discrete-Time Differentiator, T = 0.001\")\n",
        "plt.ylabel(r\"d/dt x(t) of x(t)=sin(2πt)\")\n",
        "plt.xlabel(r\"t\")\n",
        "plt.plot(t, yn)\n",
        "plt.show()\n"
      ]
    },
    {
      "cell_type": "markdown",
      "metadata": {
        "id": "oWGrDjX1dzQT"
      },
      "source": [
        "**7. Compare the results in Q5 and Q6.**"
      ]
    },
    {
      "cell_type": "markdown",
      "metadata": {
        "id": "vNWBzR12dzQT"
      },
      "source": [
        "write your answer here"
      ]
    },
    {
      "cell_type": "markdown",
      "metadata": {
        "id": "omOJF1YpdzQT"
      },
      "source": [
        "<h2 style=\"color:salmon;\"><left>3. Difference Equations</left></h2>"
      ]
    },
    {
      "cell_type": "markdown",
      "metadata": {
        "id": "PIYZ211IdzQT"
      },
      "source": [
        "In this section, we will study the effect of two discrete-time filters. The first filter, $y=S_1[x]$, obeys the difference equation\n",
        "\n",
        "\\begin{equation}\n",
        "    y[n]=x[n]-x[n-1]\n",
        "\\end{equation}\n",
        "\n",
        "and the second filter, $y=S_2[x]$, obeys the difference equation\n",
        "\n",
        "\\begin{equation}\n",
        "    y[n]=\\frac{1}{2}y[n-1]+x[n]\n",
        "\\end{equation}"
      ]
    },
    {
      "cell_type": "markdown",
      "metadata": {
        "id": "QLJyPTybdzQT"
      },
      "source": [
        "<h3 style=\"color:red;\"><left>Exercise 3</left></h3>"
      ]
    },
    {
      "cell_type": "markdown",
      "metadata": {
        "id": "0SJuNE8RdzQT"
      },
      "source": [
        "**1. For each of these five systems, do the following:**\n",
        "\n",
        "* $S_1$\n",
        "* $S_2$\n",
        "* $S_1(S_2)$ (i.e., the series connection with $S_1$ following $S_2$)\n",
        "* $S_2(S_1)$ (i.e., the series connection with $S_2$ following $S_1$)\n",
        "* $S_1+S_2$\n",
        "\n",
        "**i. Draw the system diagram (use only delays, multiplications, and additions as in Figure 1)**"
      ]
    },
    {
      "cell_type": "markdown",
      "metadata": {
        "id": "K-QyE7t5dzQT"
      },
      "source": [
        "insert your diagram here"
      ]
    },
    {
      "cell_type": "markdown",
      "metadata": {
        "id": "TwkrlMEPdzQT"
      },
      "source": [
        "**ii. Write code to implement each of these two filters ($S_1, S_2$) in the following functions using the following syntax**\n",
        "```python\n",
        "def S1(x):\n",
        "    \"\"\"\n",
        "    Parameters\n",
        "    ---\n",
        "    x: the discrete-time signal\n",
        "    \n",
        "    Returns:\n",
        "    ---\n",
        "    y: the filtered signal\n",
        "    \"\"\"\n",
        "    pass\n",
        "```\n",
        "\n",
        "and \n",
        "```python\n",
        "def S2(x):\n",
        "    \"\"\"\n",
        "    Parameters\n",
        "    ---\n",
        "    x: the discrete-time signal\n",
        "    \n",
        "    Returns:\n",
        "    ---\n",
        "    y: the filtered signal\n",
        "    \"\"\"\n",
        "    pass\n",
        "```"
      ]
    },
    {
      "cell_type": "code",
      "execution_count": null,
      "metadata": {
        "id": "URCnT6tgdzQT"
      },
      "outputs": [],
      "source": [
        "# write your code here\n"
      ]
    },
    {
      "cell_type": "markdown",
      "metadata": {
        "id": "1X-JzokcdzQU"
      },
      "source": [
        "**iii. Write code to calculate the impulse response of each of the five systems, and plot the impulse response of each of these five systems:**"
      ]
    },
    {
      "cell_type": "code",
      "execution_count": null,
      "metadata": {
        "id": "jjU1ic8GdzQU"
      },
      "outputs": [],
      "source": [
        "# write your code here\n"
      ]
    },
    {
      "cell_type": "markdown",
      "metadata": {
        "id": "I4d8ZPVCdzQU"
      },
      "source": [
        "**2. Use the command ```audio, fs = sf.read(\"music.au\")``` to load the file ```music.au``` into Python. The first variable ```audio``` is the signal, and the second variable ```fs``` is the sampling rate.**"
      ]
    },
    {
      "cell_type": "code",
      "execution_count": null,
      "metadata": {
        "id": "xMfcryGcdzQU"
      },
      "outputs": [],
      "source": [
        "# write your code here\n",
        "audio, fs = sf.read(\"music.au\")\n"
      ]
    },
    {
      "cell_type": "markdown",
      "metadata": {
        "id": "Vb0ZcQIRdzQU"
      },
      "source": [
        "**3. Play the audio file using the command `ipd.Audio(audio, rate=fs)`.**"
      ]
    },
    {
      "cell_type": "code",
      "execution_count": null,
      "metadata": {
        "id": "d_BSce4cdzQU"
      },
      "outputs": [],
      "source": [
        "# write your code here\n",
        "ipd.Audio(audio, rate=fs)\n"
      ]
    },
    {
      "cell_type": "markdown",
      "metadata": {
        "id": "AjRz0k33dzQU"
      },
      "source": [
        "**4. Next, filter the audio signal with each of the two systems $S_1$ and $S_2$ and listen to each of their outputs.**"
      ]
    },
    {
      "cell_type": "code",
      "execution_count": null,
      "metadata": {
        "id": "iGLi7Z3xdzQU"
      },
      "outputs": [],
      "source": [
        "# write your code here\n"
      ]
    },
    {
      "cell_type": "markdown",
      "metadata": {
        "id": "hkpkQiL4dzQU"
      },
      "source": [
        "**5. How do the filters change the sound of the audio signals? Explain your observations.**"
      ]
    },
    {
      "cell_type": "markdown",
      "metadata": {
        "id": "IB0dSiYcdzQU"
      },
      "source": [
        "write your answer here"
      ]
    },
    {
      "cell_type": "markdown",
      "metadata": {
        "id": "XdYvm8UNdzQU"
      },
      "source": [
        "<h2 style=\"color:salmon;\"><left>4. Inverse Systems</left></h2>"
      ]
    },
    {
      "cell_type": "markdown",
      "metadata": {
        "id": "WK2uYEXkdzQU"
      },
      "source": [
        "<h3 style=\"color:red;\"><left>Exercise 4</left></h3>"
      ]
    },
    {
      "cell_type": "markdown",
      "metadata": {
        "id": "3w-yIXtNdzQV"
      },
      "source": [
        "**1. Consider the system $y=S_2[x]$ from Section 3. Find a difference equation for a new system $y=S_3[x]$ such that $\\delta=S_3[S_2[\\delta]]$ where $\\delta$ denotes the discrete-time impulse function $\\delta(n)$. Since both systems $S_2$ and $S_3$ are LTI, the time-invariance and superposition properties can be used to obtain $x=S_3[S_2[x]]$ for *any* discrete-time signal $x$. We say that the systems $S_3$ and $S_2$ are inverse filters because they cancel out the effects of each other.**"
      ]
    },
    {
      "cell_type": "markdown",
      "metadata": {
        "id": "IBNKrKhbdzQV"
      },
      "source": [
        "**Hint:** The system $y=S_3[x]$ can be described by the difference equation\n",
        "\n",
        "\\begin{equation}\n",
        "    y[n]=ax[n]+bx[n-1]\n",
        "\\end{equation}\n",
        "\n",
        "where $a$ and $b$ are constants."
      ]
    },
    {
      "cell_type": "markdown",
      "metadata": {
        "id": "q96B9qoYdzQV"
      },
      "source": [
        "insert your answer here"
      ]
    },
    {
      "cell_type": "markdown",
      "metadata": {
        "id": "xvC0KP7_dzQV"
      },
      "source": [
        "**2. Complete the Python function using the following syntax.**\n",
        "```python\n",
        "def S3(x):\n",
        "    \"\"\"\n",
        "    Parameters\n",
        "    ---\n",
        "    x: the discrete-time signal\n",
        "    \n",
        "    Returns:\n",
        "    ---\n",
        "    y: the filtered signal\n",
        "    \"\"\"\n",
        "    pass\n",
        "```"
      ]
    },
    {
      "cell_type": "code",
      "execution_count": null,
      "metadata": {
        "id": "LPAMym4WdzQV"
      },
      "outputs": [],
      "source": [
        "# write your code here\n"
      ]
    },
    {
      "cell_type": "markdown",
      "metadata": {
        "id": "Jxjz5aOFdzQV"
      },
      "source": [
        "**3. Write code to plot the impulse response of both $S_3$ and $S_3[S_2[\\delta]]$ below.**"
      ]
    },
    {
      "cell_type": "code",
      "execution_count": null,
      "metadata": {
        "id": "j7t0rIM1dzQV"
      },
      "outputs": [],
      "source": [
        "# write your code here\n"
      ]
    },
    {
      "cell_type": "markdown",
      "metadata": {
        "id": "dr46Y1mNdzQV"
      },
      "source": [
        "<h2 style=\"color:salmon;\"><left>5. System Tests</left></h2>"
      ]
    },
    {
      "cell_type": "markdown",
      "metadata": {
        "id": "89gHjXNedzQV"
      },
      "source": [
        "<h3 style=\"color:red;\"><left>Exercise 5</left></h3>"
      ]
    },
    {
      "cell_type": "markdown",
      "metadata": {
        "id": "GSrqqFFJdzQV"
      },
      "source": [
        "Often it is necessary to determine if a system is linear and/or time-invariant. If the inner workings of a system are not known, this task is impossible because the linearity and time-invariance properties must hold true for all possible input signals. However, it is possible to show that a system is non-linear or time-varying because only a single instance must be found where the properties are violated."
      ]
    },
    {
      "cell_type": "markdown",
      "metadata": {
        "id": "bDCccLOHdzQV"
      },
      "source": [
        "The code in the cell below is the synatx for the three imported black boxes, ```bbox1```, ```bbox2``` and ```bbox3```. All of them have the same syntax\n",
        "```python\n",
        "def bboxN(x):\n",
        "    return y\n",
        "```\n",
        "where ```x``` and ```y``` are the input and the output signals, and ```N=1,2,3```. **Exactly one of these systems is non-linear, and exactly one of them is time-varying.** Your task is to find the non-linear system and the time-varying system.\n",
        "\n",
        "**Hints:** \n",
        "* You should try a variety of input signals until you find a counter-example.\n",
        "* When testing for time-invariance, you need to look at the responses to a signal and to its delayed version. Since all your signals in Python have a finite duration, you should be very careful about shifting signals. In particular, if you want to shift a signal $x$ by $M$ samples to the left, $x$ should start with at least $M$ zeros. If you want to shift $x$ by $M$ samples to the right, $x$ should end with at least $M$ zeros.\n",
        "* When testing for linearity, you may find that simple inputs such as the unit impulse do not accomplish the task. In this case, you should try something more complicated like a sinusoid or a random signal generated with the ```x = np.random.rand(N)``` command, where ```N``` here is the length of the signal."
      ]
    },
    {
      "cell_type": "markdown",
      "metadata": {
        "id": "IhHLktyWdzQV"
      },
      "source": [
        "**1. Import the three bbboxes from the file ```bboxes.py```.**"
      ]
    },
    {
      "cell_type": "code",
      "execution_count": null,
      "metadata": {
        "id": "VJplTzYJdzQV"
      },
      "outputs": [],
      "source": [
        "# write your code here\n"
      ]
    },
    {
      "cell_type": "markdown",
      "metadata": {
        "id": "R3Ic6V46dzQV"
      },
      "source": [
        "**2. Write code to plot input/output signal pairs that support your conclusions. Create multiple code cells if necessary.**"
      ]
    },
    {
      "cell_type": "code",
      "execution_count": null,
      "metadata": {
        "id": "7vzZkK1UdzQV"
      },
      "outputs": [],
      "source": [
        "# write your code here\n"
      ]
    },
    {
      "cell_type": "markdown",
      "metadata": {
        "id": "TQOoiGP_dzQW"
      },
      "source": [
        "**2. State which system is non-linear and which system is time-varying.**\n"
      ]
    },
    {
      "cell_type": "markdown",
      "metadata": {
        "id": "gSbMvGBvdzQW"
      },
      "source": [
        "write your answer here"
      ]
    },
    {
      "cell_type": "markdown",
      "metadata": {
        "id": "NBvov7obdzQW"
      },
      "source": [
        "**3. Explain how the plots support your conclusion.**"
      ]
    },
    {
      "cell_type": "markdown",
      "metadata": {
        "id": "AZLlpm4mdzQW"
      },
      "source": [
        "write your answer here"
      ]
    },
    {
      "cell_type": "markdown",
      "metadata": {
        "id": "-cae41budzQW"
      },
      "source": [
        "<h2 style=\"color:salmon;\"><left>6. Stock Market Example</left></h2>"
      ]
    },
    {
      "cell_type": "markdown",
      "metadata": {
        "id": "crB5f5K5dzQW"
      },
      "source": [
        "<h3 style=\"color:salmon;\"><left>6.1 Moving Averages</left></h3>"
      ]
    },
    {
      "cell_type": "markdown",
      "metadata": {
        "id": "7wH68GXKdzQW"
      },
      "source": [
        "One reason that digital signal processing (DSP) techniques are so powerful is that they can be used for very different kinds of signals. While most continuous-time systems only process voltage and current signals, a computer can process discrete-time signals, which are essentially just sequences of numbers. Therefore DSP may be used in a very wide range of applications. Let's look at an example.\n",
        "\n",
        "A stockbroker wants to see whether the average value of a certain stock is increasing or decreasing. To do this, the daily fluctuations of the stock values must be eliminated. A popular business magazine recommends three possible methods for computing this average.\n",
        "\n",
        "\\begin{align}\n",
        "    \\text{averagevalue}(\\text{today})&=\\frac{1}{3}\\left(\\text{value}\\left(\\text{today}\\right)+\\text{value}\\left(\\text{yesterday}\\right)+\\text{value}\\left(\\text{2 days ago}\\right)\\right)\\tag{5}\\\\\n",
        "    \\text{averagevalue}(\\text{today})&=0.6\\times\\text{averagevalue}(\\text{yesterday})+0.4\\times\\left(\\text{value}\\left(\\text{today}\\right)\\right)\\tag{6}\\\\\n",
        "    \\text{averagevalue}(\\text{today})&=\\text{averagevalue}(\\text{yesterday})+\\frac{1}{3}\\left(\\text{value}\\left(\\text{today}\\right)-\\text{value}\\left(\\text{3 days ago}\\right)\\right)\\tag{7}\n",
        "\\end{align}"
      ]
    },
    {
      "cell_type": "markdown",
      "metadata": {
        "id": "a3Xv3qF-dzQW"
      },
      "source": [
        "<h3 style=\"color:red;\"><left>Exercise 6.1</left></h3>"
      ]
    },
    {
      "cell_type": "markdown",
      "metadata": {
        "id": "kvkVcDHBdzQW"
      },
      "source": [
        "**For each of these three methods:**\n",
        "\n",
        "**1. write a difference equation**"
      ]
    },
    {
      "cell_type": "markdown",
      "metadata": {
        "id": "96CFbp6YdzQW"
      },
      "source": [
        "(5) y[n] = 1/3 * (x[n]+ x[n-1] + x[n-2])\n",
        "\n",
        "(6) y[n] = 0.6 * y[n-1] + .4 * x[n]\n",
        "\n",
        "(7) y[n] = y[n-1] + 1/3 * (x[n] - x[n-3])"
      ]
    },
    {
      "cell_type": "markdown",
      "metadata": {
        "id": "O7_hG0R1dzQW"
      },
      "source": [
        "**2. Draw a system diagram**"
      ]
    },
    {
      "cell_type": "markdown",
      "metadata": {
        "id": "ReCvMm4KdzQW"
      },
      "source": [
        "insert your diagram here"
      ]
    },
    {
      "cell_type": "markdown",
      "metadata": {
        "id": "fMKuUU_qdzQW"
      },
      "source": [
        "**3. Calculate the impulse response**"
      ]
    },
    {
      "cell_type": "markdown",
      "metadata": {
        "id": "GEaz0t7xdzQW"
      },
      "source": [
        "write your answer here"
      ]
    },
    {
      "cell_type": "markdown",
      "metadata": {
        "id": "TnDl4QQidzQW"
      },
      "source": [
        "**4. Explain why methods (5) and (7) are known as moving average.**"
      ]
    },
    {
      "cell_type": "markdown",
      "metadata": {
        "id": "7KOzWZeTdzQX"
      },
      "source": [
        "write your answer here"
      ]
    },
    {
      "cell_type": "markdown",
      "metadata": {
        "id": "GPSVX1G9dzQX"
      },
      "source": [
        "<h3 style=\"color:red;\"><left>Exercise 6.2</left></h3>"
      ]
    },
    {
      "cell_type": "markdown",
      "metadata": {
        "id": "V4vlwSQ6dzQX"
      },
      "source": [
        "Load the file ```stockrates.npy``` into Python. This file contains a vector of daily stock market exchange rates for a publicly-traded stock.\n",
        "\n",
        "Apply filters (6) and (7) to smooth the stock values. When you apply filter (6), you will need to initialize the value of *averagevalue(yesterday)*. Use an initial value of $0$. Similarly, in filter (7), set the initial values of the *value* vector to $0$ (for the days prior to the start of data collection)."
      ]
    },
    {
      "cell_type": "markdown",
      "metadata": {
        "id": "zSsDAtDrdzQX"
      },
      "source": [
        "**Note: You will need the following code to load data that is stored in a `.npy` file.**"
      ]
    },
    {
      "cell_type": "code",
      "execution_count": null,
      "metadata": {
        "id": "NMIlbsYLdzQX"
      },
      "outputs": [],
      "source": [
        "rate = np.load(\"stockrates.npy\")"
      ]
    },
    {
      "cell_type": "markdown",
      "metadata": {
        "id": "jYWH8n6hdzQX"
      },
      "source": [
        "**1. Plot the original stock values.**"
      ]
    },
    {
      "cell_type": "code",
      "execution_count": null,
      "metadata": {
        "id": "G8X6tXOodzQX"
      },
      "outputs": [],
      "source": [
        "# write your code here\n"
      ]
    },
    {
      "cell_type": "markdown",
      "metadata": {
        "id": "ieI5IhGKdzQX"
      },
      "source": [
        "**2. Plot the result of filtering with (6).**"
      ]
    },
    {
      "cell_type": "code",
      "execution_count": null,
      "metadata": {
        "id": "CE7dTymQdzQX"
      },
      "outputs": [],
      "source": [
        "# write your code here\n"
      ]
    },
    {
      "cell_type": "markdown",
      "metadata": {
        "id": "ErIBSUL6dzQX"
      },
      "source": [
        "**3. Plot the result of filtering with (7).**"
      ]
    },
    {
      "cell_type": "code",
      "execution_count": null,
      "metadata": {
        "id": "IVq69pSqdzQX"
      },
      "outputs": [],
      "source": [
        "# write your code here\n"
      ]
    },
    {
      "cell_type": "markdown",
      "metadata": {
        "id": "5wKGQ6q9dzQX"
      },
      "source": [
        "**4. Discuss the advantages and disadvantages of the two filters (6) and (7). Can you suggest a better method for initializing the filter outputs?**."
      ]
    },
    {
      "cell_type": "markdown",
      "metadata": {
        "id": "nCVhmH30dzQX"
      },
      "source": [
        "write your answer here"
      ]
    }
  ],
  "metadata": {
    "kernelspec": {
      "display_name": "Python 3 (ipykernel)",
      "language": "python",
      "name": "python3"
    },
    "language_info": {
      "codemirror_mode": {
        "name": "ipython",
        "version": 3
      },
      "file_extension": ".py",
      "mimetype": "text/x-python",
      "name": "python",
      "nbconvert_exporter": "python",
      "pygments_lexer": "ipython3",
      "version": "3.8.1"
    },
    "colab": {
      "provenance": []
    }
  },
  "nbformat": 4,
  "nbformat_minor": 0
}